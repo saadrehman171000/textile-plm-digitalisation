{
 "cells": [
  {
   "cell_type": "code",
   "execution_count": null,
   "id": "f703de5b",
   "metadata": {},
   "outputs": [],
   "source": [
    "import cv2\n",
    "\n",
    "# Create a VideoCapture object to capture video from the laptop's built-in camera\n",
    "cap = cv2.VideoCapture(0)  # 0 is the default camera index, you may need to change it if you have multiple cameras\n",
    "\n",
    "# Check if the camera was opened successfully\n",
    "if not cap.isOpened():\n",
    "    print(\"Error: Could not open the camera.\")\n",
    "    exit()\n",
    "\n",
    "frame_count = 0\n",
    "\n",
    "while True:\n",
    "    # Read a frame from the camera\n",
    "    ret, frame = cap.read()\n",
    "\n",
    "    # Check if the frame was read successfully\n",
    "    if not ret:\n",
    "        print(\"Error: Could not read a frame.\")\n",
    "        break\n",
    "\n",
    "    # Process the frame or save it to a file\n",
    "    # For example, you can save each frame as an image\n",
    "    frame_filename = f'frame_{frame_count}.jpg'\n",
    "    cv2.imwrite(frame_filename, frame)\n",
    "    frame_count += 1\n",
    "\n",
    "    # Display the frame (optional)\n",
    "    cv2.imshow('Laptop Camera Stream', frame)\n",
    "\n",
    "    # Press 'q' to exit the loop\n",
    "    if cv2.waitKey(1) & 0xFF == ord('q'):\n",
    "        break\n",
    "\n",
    "# Release the camera capture object and close any OpenCV windows\n",
    "cap.release()\n",
    "cv2.destroyAllWindows()"
   ]
  }
 ],
 "metadata": {
  "kernelspec": {
   "display_name": "Python 3 (ipykernel)",
   "language": "python",
   "name": "python3"
  },
  "language_info": {
   "codemirror_mode": {
    "name": "ipython",
    "version": 3
   },
   "file_extension": ".py",
   "mimetype": "text/x-python",
   "name": "python",
   "nbconvert_exporter": "python",
   "pygments_lexer": "ipython3",
   "version": "3.11.4"
  }
 },
 "nbformat": 4,
 "nbformat_minor": 5
}
